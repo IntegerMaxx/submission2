











import numpy as np
import pandas as pd
import matplotlib.pyplot as plt
import seaborn as sns
import matplotlib








customer_df = pd.read_csv('data/customers_dataset.csv')
customer_df.head()





order_payments_df = pd.read_csv('data/order_payments_dataset.csv')
order_payments_df.head()


order_reviews_df = pd.read_csv('data/order_reviews_dataset.csv')
order_reviews_df.head()


order_df = pd.read_csv('data/orders_dataset.csv')
order_df.head()


product_category_name_df = pd.read_csv('data/product_category_name_translation.csv')
product_category_name_df.head()


products_df = pd.read_csv('data/products_dataset.csv')
products_df.head()


sellers_df = pd.read_csv('data/sellers_dataset.csv')
sellers_df.tail()











customer_df.info()


customer_df.isna().sum()


print("jumlah duplikasi: ", customer_df.duplicated().sum())


customer_df.nunique()








geolocation_df.info()


geolocation_df.isna().sum()


print("jumlah duplikasi: ", geolocation_df.duplicated().sum())


print(geolocation_df.duplicated(keep='last'))


duplikat = geolocation_df.groupby(list(geolocation_df.columns)).size().reset_index(name='count')
duplikat = duplikat[duplikat['count'] > 1]
print(duplikat)


geolocation_df.describe()


geolocation_df.nunique()








order_items_df.info()


order_items_df.isna().sum()


print("jumlah duplikasi: ", order_items_df.duplicated().sum())


order_items_df.describe()


order_items_df.nunique()








order_payments_df.info()


order_payments_df.isna().sum()


print("jumlah duplikasi: ", order_payments_df.duplicated().sum())


order_payments_df.describe()


order_payments_df.nunique()








order_reviews_df.info()


order_reviews_df.isna().sum()


print("jumlah duplikasi: ", order_reviews_df.duplicated().sum())


order_reviews_df.describe()


order_reviews_df.nunique()








order_df.info()


order_df.isna().sum()


print("jumlah duplikasi: ", order_df.duplicated().sum())


order_df.describe()


order_df.nunique()


order_df.head()








product_category_name_df.info()


product_category_name_df.isna().sum()


print("jumlah duplikasi: ", product_category_name_df.duplicated().sum())


product_category_name_df.describe()


product_category_name_df.nunique()








products_df.info()


products_df.isna().sum()


print("jumlah duplikasi: ", products_df.duplicated().sum())


products_df.describe()


min_weight = products_df['product_weight_g'].min()

result = products_df[products_df['product_weight_g'] == min_weight]

print(result)


products_df.nunique()








sellers_df.info()


sellers_df.isna().sum()


print("jumlah duplikasi: ", sellers_df.duplicated().sum())


sellers_df.describe()


sellers_df.nunique()














geolocation_df.drop_duplicates(inplace=True) # menghapus data yang duplikat pada "geolocation_df"


print("jumlah duplikasi: ", geolocation_df.duplicated().sum()) # mengecek data yang sudah dihapus





# Mengecek
order_reviews_df.isna().sum()


# Mengecek
order_reviews_df.head()


# mengecek nilai yang sering muncul pada kolom "review_comment_title"
modus_value = order_reviews_df['review_comment_title'].mode()
print(modus_value)


# mengecek nilai yang sering muncul pada kolom "review_comment_message"
modus_value = order_reviews_df['review_comment_message'].mode()
print(modus_value)


# mengganti nilai Missing Value dengan nilai yang sering muncul
data=order_reviews_df
 
data['review_comment_title'].fillna(value=data['review_comment_title'].mode().iloc[0], inplace=True)
data['review_comment_message'].fillna(value=data['review_comment_message'].mode().iloc[0], inplace=True)


# Mengecek kembali
order_reviews_df.isna().sum()


# Mengecek kembali
order_reviews_df.head()





# Mengecek Info data frame
order_df.info()


# Mengubah data type sebagian kolom pada data frame "order_df" menjadi "datetime"
datetime_columns = ["order_purchase_timestamp", "order_approved_at", "order_delivered_carrier_date", "order_delivered_customer_date", "order_estimated_delivery_date"]
 
for column in datetime_columns:
  order_df[column] = pd.to_datetime(order_df[column])


# Mengecek kembali Info data frame
order_df.info()


# Mengecek kembali
order_df.head()





# Mengecek Missing value
order_df.isna().sum()


# Menghapus Missing Value
order_df.dropna(axis=0, inplace=True)


# Mengecek Kembali
order_df.isna().sum()


# Mengecek Kembali
order_df.info()








# Mengecek data frame
products_df.info()


# Memastikan
products_df.isna().sum()


# Menghapus Missing Value
products_df.dropna(axis=0, inplace=True)


# Memastikan kembali
products_df.isna().sum()


products_df.info()





# Mengubah data type pada kolom "product_photos_qty" menjadi int64
products_df['product_photos_qty'] = products_df['product_photos_qty'].astype('int64')


# Mengecek kembali
products_df.info()


# Mengecek kolom "product_weight_g" yang memiliki baris dengan nilai 0.00
min_weight = products_df['product_weight_g'].min()
result = products_df[products_df['product_weight_g'] == min_weight]
print(result)


# Mengecek nilai
products_df.describe()


# Mengganti nilai 0.0 pada kolom "product_weight_g" dengan nilai yang sering muncul baris pada kolom "product_weight_g"
modus_value = products_df['product_weight_g'].mode().iloc[0]
products_df['product_weight_g'].replace(0.0, modus_value, inplace=True)


# Mengecek kembali
products_df.describe()











customer_df.head()





order_payments_df.groupby(by="payment_type").order_id.nunique().sort_values(ascending=False)


order_payments_df.head()








# bycustomer_df = customer_df.groupby(by="customer_city").customer_id.nunique().reset_index()
bycustomer_df.rename(columns={
    "customer_id": "customer_count"
}, inplace=True)

colors = ['#1f77b4', '#ff7f0e', '#2ca02c'] 

plt.figure(figsize=(10, 5))
 
sns.barplot(
    y="customer_count", 
    x="customer_city",
    data=bycustomer_df.sort_values(by="customer_count", ascending=False),
    palette=colors,
    legend=False,  # Nonaktifkan legenda jika tidak diperlukan
    hue="customer_city"
)
plt.title("Number of Customer by city", loc="center", fontsize=15)
plt.ylabel(None)
plt.xlabel(None)
plt.tick_params(axis='x', labelsize=12)
plt.show()












